{
 "cells": [
  {
   "cell_type": "markdown",
   "metadata": {},
   "source": [
    "Consider the following 2-class 2D problem: negative points have coordinates $(-i,0)$, and positive ones have coordinates $(K, (-1)^i \\lceil \\frac{i}{2}\\rceil ) $ both for $i=1,..., N$.\n",
    "\n",
    "Let $N=10$ and $K=2$ and consider the linear machine given by the extended weight vector $a=(0,10/55,0)$. In other words, your linear discriminant function is $ f(x,y) = \\frac{10x}{55} $."
   ]
  },
  {
   "cell_type": "code",
   "execution_count": 57,
   "metadata": {},
   "outputs": [
    {
     "data": {
      "image/png": "[encoded data removed]",
      "text/plain": [
       "<Figure size 432x288 with 1 Axes>"
      ]
     },
     "metadata": {
      "needs_background": "light"
     },
     "output_type": "display_data"
    }
   ],
   "source": [
    "import numpy as np\n",
    "import matplotlib.pyplot as plt\n",
    "\n",
    "N = 10\n",
    "K = 2\n",
    "\n",
    "a = np.array([[0],[2/11],[0]])  # ext. weight vector (fixed) \n",
    "\n",
    "Xp =  np.ones((N,3))  # pos. coordinates\n",
    "Bp =  np.ones((N,1))  # pos. labels/targets\n",
    "Xn =  np.ones((N,3))  # neg. coordinates\n",
    "Bn = -np.ones((N,1))  # neg. labels/targets\n",
    "\n",
    "for i in range(1,N+1):\n",
    "    Xn[i-1,1:] = (-i,0)\n",
    "    Xp[i-1,1:] = (K, np.ceil(i/2)*(-1)**i )\n",
    " \n",
    "###############\n",
    "plt.plot(Xn[:,1],Xn[:,2],'x',label='neg')\n",
    "plt.plot(Xp[:,1],Xp[:,2],'ro',label='pos')\n",
    "yl=plt.ylim()\n",
    "plt.plot([0,0],yl,'k-',label='boundary',linewidth=3)\n",
    "plt.plot([5.5,5.5],yl,'k:',label='+1')\n",
    "plt.plot([-5.5,-5.5],yl,'k:',label='-1')\n",
    "\n",
    "\n",
    "plt.grid()\n",
    "plt.legend()\n",
    "plt.xlabel('X')\n",
    "plt.ylabel('Y')\n",
    "plt.show()"
   ]
  },
  {
   "cell_type": "markdown",
   "metadata": {},
   "source": [
    "The discriminant function is $f(x,y)=10x/55 = 2x/11$. So the boundary is given by $f(x,y)=\\frac{2x}{11}=0$ which implies $x=0$ (black vertical line).\n",
    "\n",
    "Correspondingly, the function reaches $\\pm 1$ when $f(x,y) =\\frac{2x}{11}= \\pm 1$ which implies $x=\\frac{\\pm 11}{2}$ (dotted vertical lines).\n",
    "\n",
    "All negative inputs are at the left of the boundary and have negative outputs given by:\n"
   ]
  },
  {
   "cell_type": "code",
   "execution_count": 58,
   "metadata": {},
   "outputs": [
    {
     "data": {
      "text/plain": [
       "array([[-0.18181818, -0.36363636, -0.54545455, -0.72727273, -0.90909091,\n",
       "        -1.09090909, -1.27272727, -1.45454545, -1.63636364, -1.81818182]])"
      ]
     },
     "execution_count": 58,
     "metadata": {},
     "output_type": "execute_result"
    }
   ],
   "source": [
    "outneg = np.matmul(Xn,a)\n",
    "outneg.T"
   ]
  },
  {
   "cell_type": "markdown",
   "metadata": {},
   "source": [
    "and positive inputs have a unique positive output:"
   ]
  },
  {
   "cell_type": "code",
   "execution_count": 59,
   "metadata": {},
   "outputs": [
    {
     "data": {
      "text/plain": [
       "array([[0.36363636, 0.36363636, 0.36363636, 0.36363636, 0.36363636,\n",
       "        0.36363636, 0.36363636, 0.36363636, 0.36363636, 0.36363636]])"
      ]
     },
     "execution_count": 59,
     "metadata": {},
     "output_type": "execute_result"
    }
   ],
   "source": [
    "outpos = np.matmul(Xp,a)\n",
    "outpos.T"
   ]
  },
  {
   "cell_type": "markdown",
   "metadata": {},
   "source": [
    "Consequently all inputs are correctly classified and the perceptron criterion is zero for the weight vector a"
   ]
  },
  {
   "cell_type": "markdown",
   "metadata": {},
   "source": [
    "We can plot the outputs (and deviations from targets as lines) against the x coordinate:"
   ]
  },
  {
   "cell_type": "code",
   "execution_count": 60,
   "metadata": {},
   "outputs": [
    {
     "data": {
      "image/png": "[encoded data removed]",
      "text/plain": [
       "<Figure size 432x288 with 1 Axes>"
      ]
     },
     "metadata": {
      "needs_background": "light"
     },
     "output_type": "display_data"
    }
   ],
   "source": [
    "plt.plot(Xn[:,1],outneg,'bx',label='negative outputs')\n",
    "plt.plot(Xp[:,1],outpos,'ro',label='positive outputs')\n",
    "yl=[-2.2,1.2]\n",
    "plt.plot([5.5,5.5],yl,'k:',label='+1')\n",
    "plt.plot([-5.5,-5.5],yl,'k:',label='-1')\n",
    "plt.plot([0,0],yl,'k-',label='boundary',linewidth=3)\n",
    "plt.plot([-10,0,0,6],[-1,-1,1,1],'g--',label='target')\n",
    "\n",
    "for i in range(N):\n",
    "    plt.plot([Xn[i,1],Xn[i,1]],[Bn[i,0],outneg[i,0]],'g-')\n",
    "    plt.plot([Xp[i,1],Xp[i,1]],[Bp[i,0],outpos[i,0]],'r-')\n",
    "\n",
    "plt.grid()\n",
    "plt.xlabel('x coordinate')\n",
    "plt.ylabel('output')\n",
    "plt.legend(loc='upper left')\n",
    "plt.show()"
   ]
  },
  {
   "cell_type": "markdown",
   "metadata": {},
   "source": [
    "The sum of the squared deviations for positives is ten times (4/11 -1) squared which is $10\\frac{7^2}{11^2}=\\frac{490}{121}=4.05$\n",
    "\n",
    "In the case of negatives we obtain the expression\n",
    "\n",
    "$2 \\sum_{i=1}^5 (\\frac{11-2i}{11})^2 = 2\\frac{1+3^2+5^2+7^2+9^2}{11^2} = \\frac{2*165}{121} = 2.73$\n",
    "\n"
   ]
  },
  {
   "cell_type": "code",
   "execution_count": 61,
   "metadata": {},
   "outputs": [
    {
     "data": {
      "text/plain": [
       "2.7272727272727275"
      ]
     },
     "execution_count": 61,
     "metadata": {},
     "output_type": "execute_result"
    }
   ],
   "source": [
    "sumDevNeg = np.sum((outneg-Bn)*(outneg-Bn))\n",
    "sumDevNeg"
   ]
  },
  {
   "cell_type": "code",
   "execution_count": 62,
   "metadata": {},
   "outputs": [
    {
     "data": {
      "text/plain": [
       "4.049586776859504"
      ]
     },
     "execution_count": 62,
     "metadata": {},
     "output_type": "execute_result"
    }
   ],
   "source": [
    "sumDevPos = np.sum((outpos-Bp)*(outpos-Bp))\n",
    "sumDevPos"
   ]
  },
  {
   "cell_type": "markdown",
   "metadata": {},
   "source": [
    "So the LMS criterion is 6.78"
   ]
  },
  {
   "cell_type": "code",
   "execution_count": 63,
   "metadata": {},
   "outputs": [
    {
     "name": "stdout",
     "output_type": "stream",
     "text": [
      "LMS criterion for K=2 is 6.776859504132232\n"
     ]
    }
   ],
   "source": [
    "LMScriterion = sumDevNeg + sumDevPos\n",
    "print('LMS criterion for K={} is {}'.format(K,LMScriterion))"
   ]
  },
  {
   "cell_type": "markdown",
   "metadata": {},
   "source": [
    "The same with a different value of K (you can try several values)"
   ]
  },
  {
   "cell_type": "code",
   "execution_count": 66,
   "metadata": {},
   "outputs": [
    {
     "name": "stdout",
     "output_type": "stream",
     "text": [
      "LMS criterion for K=5 is 3.5537190082644616\n"
     ]
    }
   ],
   "source": [
    "KK = 5\n",
    "for i in range(1,N+1):\n",
    "    Xp[i-1,1] = KK\n",
    "\n",
    "outpos = np.matmul(Xp,a)    \n",
    "sumDevPos = np.sum((outpos.T-Bp)*(outpos.T-Bp))\n",
    "LMScriterion1 = sumDevNeg + sumDevPos\n",
    "print('LMS criterion for K={} is {}'.format(KK,LMScriterion1))"
   ]
  },
  {
   "cell_type": "markdown",
   "metadata": {},
   "source": [
    "In fact, the LMS criterion can be written as a function of K as:\n",
    "\n",
    "$ sumDevNeg + 10 (\\frac{2K}{11}-1)^2$\n",
    "\n",
    "And it is easy to see that this attains a minimum when $K=11/2=5.5$."
   ]
  },
  {
   "cell_type": "markdown",
   "metadata": {},
   "source": [
    "To obtain the optimum weight for K=2 we need to write the LMS criterion in terms of the X-weight and the Bias and take derivatives.\n",
    "(Given the simmetry of the problem we do not need to care about the Y dimension). That is,\n",
    "\n",
    "$J_s = \\sum_{i=1}^{10} (1+w_o-wi)^2 + 10(w_o+2w-1)^2$\n",
    "\n",
    "Now taking derivatives and equating to zero we have:\n",
    "\n",
    "$\\frac{\\partial J_s}{\\partial w_o} = 2\\sum_{i=1}^{10} (1+w_o-wi) + 20(w_o+2w-1) = 0$\n",
    "\n",
    "from which we arrive to $4w_o = 7w$. And,\n",
    "\n",
    "$\\frac{\\partial J_s}{\\partial w} = 2\\sum_{i=1}^{10} (1+w_o-wi)(-i) + 20(w_o+2w-1)2 = 0$\n",
    "\n",
    "from which we obtain the solution $a^* = \\frac{5}{97}(7,4,0)$ and we finally conclude that the optimal boundary is at $x=\\frac{-7}{4}$"
   ]
  },
  {
   "cell_type": "markdown",
   "metadata": {},
   "source": [
    "Using the pseudoinverse:"
   ]
  },
  {
   "cell_type": "code",
   "execution_count": 67,
   "metadata": {},
   "outputs": [
    {
     "data": {
      "text/plain": [
       "array([[ 3.60824742e-01],\n",
       "       [ 2.06185567e-01],\n",
       "       [-1.38777878e-17]])"
      ]
     },
     "execution_count": 67,
     "metadata": {},
     "output_type": "execute_result"
    }
   ],
   "source": [
    "# recover K=2 first\n",
    "for i in range(1,N+1):\n",
    "    Xp[i-1,1] = K\n",
    "X = np.concatenate([Xp,Xn])\n",
    "B = np.concatenate([Bp,Bn])\n",
    "\n",
    "# and compute the optimum weight\n",
    "pInv = np.linalg.pinv(X)\n",
    "aOpt = np.matmul(pInv,B)\n",
    "aOpt"
   ]
  },
  {
   "cell_type": "code",
   "execution_count": 68,
   "metadata": {},
   "outputs": [
    {
     "data": {
      "text/plain": [
       "(array([-1.75]), array([4.85]))"
      ]
     },
     "execution_count": 68,
     "metadata": {},
     "output_type": "execute_result"
    }
   ],
   "source": [
    "Boundary = -aOpt[0]/aOpt[1]\n",
    "margin   = 1/aOpt[1] \n",
    "(Boundary, margin)"
   ]
  },
  {
   "cell_type": "code",
   "execution_count": 70,
   "metadata": {},
   "outputs": [
    {
     "data": {
      "image/png": "[encoded data removed]",
      "text/plain": [
       "<Figure size 432x288 with 1 Axes>"
      ]
     },
     "metadata": {
      "needs_background": "light"
     },
     "output_type": "display_data"
    }
   ],
   "source": [
    "plt.plot(Xn[:,1],Xn[:,2],'x',label='neg')\n",
    "plt.plot(Xp[:,1],Xp[:,2],'+',label='pos')\n",
    "plt.plot([Boundary,Boundary],plt.ylim(),'k-',label='LMS boundary',linewidth=3)\n",
    "plt.plot([Boundary+margin,Boundary+margin],plt.ylim(),'k:',label='+1')\n",
    "plt.plot([Boundary-margin,Boundary-margin],plt.ylim(),'k:',label='-1')\n",
    "\n",
    "plt.grid()\n",
    "plt.legend()\n",
    "plt.xlabel('X')\n",
    "plt.ylabel('Y')\n",
    "plt.show()"
   ]
  },
  {
   "cell_type": "markdown",
   "metadata": {},
   "source": [
    "Observe that the optimal LMS solution does not correspond to a zero error classifier.\n",
    "\n",
    "Note that we obtain (approximately) the same solutions through backpropagation"
   ]
  },
  {
   "cell_type": "code",
   "execution_count": 12,
   "metadata": {},
   "outputs": [
    {
     "data": {
      "text/plain": [
       "MLPRegressor(activation='identity', alpha=0, hidden_layer_sizes=(),\n",
       "             max_iter=500, solver='lbfgs', tol=1e-07)"
      ]
     },
     "execution_count": 12,
     "metadata": {},
     "output_type": "execute_result"
    }
   ],
   "source": [
    "from sklearn.neural_network import MLPRegressor\n",
    "XX = X[:,1:]\n",
    "y = B[:,0]\n",
    "\n",
    "clf = MLPRegressor(hidden_layer_sizes=(), activation='identity', solver='lbfgs',alpha=0,tol=1e-7,max_iter=500)\n",
    "clf.fit(XX,y)\n",
    "\n"
   ]
  },
  {
   "cell_type": "code",
   "execution_count": 13,
   "metadata": {},
   "outputs": [
    {
     "data": {
      "text/plain": [
       "array([[ 3.60824726e-01],\n",
       "       [ 2.06185579e-01],\n",
       "       [-1.22351721e-08]])"
      ]
     },
     "execution_count": 13,
     "metadata": {},
     "output_type": "execute_result"
    }
   ],
   "source": [
    "aBP = np.concatenate([clf.intercepts_[0],clf.coefs_[0][:,0]])[np.newaxis].T\n",
    "aBP"
   ]
  },
  {
   "cell_type": "code",
   "execution_count": 14,
   "metadata": {},
   "outputs": [
    {
     "data": {
      "text/plain": [
       "0.11340206185567266"
      ]
     },
     "execution_count": 14,
     "metadata": {},
     "output_type": "execute_result"
    }
   ],
   "source": [
    "clf.loss_"
   ]
  },
  {
   "cell_type": "code",
   "execution_count": 74,
   "metadata": {},
   "outputs": [
    {
     "name": "stdout",
     "output_type": "stream",
     "text": [
      "The optimal LMS criterion for K=2 is 4.536082474226804\n"
     ]
    }
   ],
   "source": [
    "JsCriterion = np.sum(np.square(np.matmul(X,aOpt)-B))\n",
    "print('The optimal LMS criterion for K={} is {}'.format(K,JsCriterion))"
   ]
  },
  {
   "cell_type": "code",
   "execution_count": 71,
   "metadata": {},
   "outputs": [
    {
     "data": {
      "text/plain": [
       "0.1134020618556701"
      ]
     },
     "execution_count": 71,
     "metadata": {},
     "output_type": "execute_result"
    }
   ],
   "source": [
    "# Note that the quadratic loss is usually divided by 2 and normalized with respect to the number of examples.\n",
    "(1/2)*JsCriterion/(2*N)"
   ]
  },
  {
   "cell_type": "markdown",
   "metadata": {},
   "source": [
    "But, what if we consider a nonlinear activation function together with our linear model?\n"
   ]
  },
  {
   "cell_type": "code",
   "execution_count": 120,
   "metadata": {},
   "outputs": [
    {
     "data": {
      "text/plain": [
       "array([[ 3.00478848e+00],\n",
       "       [-1.00888154e+00],\n",
       "       [-6.76947295e-06]])"
      ]
     },
     "execution_count": 120,
     "metadata": {},
     "output_type": "execute_result"
    }
   ],
   "source": [
    "activationType = 'relu' ########################\n",
    "\n",
    "clfa = MLPRegressor(hidden_layer_sizes=(1,), activation=activationType, solver='lbfgs',alpha=0,tol=1e-7,max_iter=500)\n",
    "clfa.fit(XX,y)\n",
    "\n",
    "aAct = np.concatenate([clfa.intercepts_[0],clfa.coefs_[0][:,0]])[np.newaxis].T\n",
    "aAct"
   ]
  },
  {
   "cell_type": "code",
   "execution_count": 121,
   "metadata": {},
   "outputs": [
    {
     "name": "stdout",
     "output_type": "stream",
     "text": [
      "The optimal LMS criterion for K=2 when using relu activation is 4.536082474463685\n"
     ]
    }
   ],
   "source": [
    "JsCritA = np.sum(np.square( clfa.predict(XX)-B.ravel()))\n",
    "print('The optimal LMS criterion for K={} when using {} activation is {}'.format(K,activationType,JsCritA))"
   ]
  },
  {
   "cell_type": "code",
   "execution_count": 122,
   "metadata": {},
   "outputs": [
    {
     "data": {
      "text/plain": [
       "array([2.97833626])"
      ]
     },
     "execution_count": 122,
     "metadata": {},
     "output_type": "execute_result"
    }
   ],
   "source": [
    "BoundaryA = -aAct[0]/aAct[1]\n",
    "BoundaryA"
   ]
  },
  {
   "cell_type": "code",
   "execution_count": 123,
   "metadata": {},
   "outputs": [
    {
     "data": {
      "image/png": "[encoded data removed]",
      "text/plain": [
       "<Figure size 1152x288 with 2 Axes>"
      ]
     },
     "metadata": {
      "needs_background": "light"
     },
     "output_type": "display_data"
    },
    {
     "data": {
      "image/png": "[encoded data removed]",
      "text/plain": [
       "<Figure size 1152x288 with 2 Axes>"
      ]
     },
     "metadata": {
      "needs_background": "light"
     },
     "output_type": "display_data"
    }
   ],
   "source": [
    "def make_meshgrid(x, y, h=.02):\n",
    "    \"\"\"Create a mesh of points to plot in\n",
    "\n",
    "    Parameters\n",
    "    ----------\n",
    "    x: data to base x-axis meshgrid on\n",
    "    y: data to base y-axis meshgrid on\n",
    "    h: stepsize for meshgrid, optional\n",
    "\n",
    "    Returns\n",
    "    -------\n",
    "    xx, yy : ndarray\n",
    "    \"\"\"\n",
    "    x_min, x_max = x.min() - 1, x.max() + 1\n",
    "    y_min, y_max = y.min() - 1, y.max() + 1\n",
    "    xx, yy = np.meshgrid(np.arange(x_min, x_max, h),\n",
    "                         np.arange(y_min, y_max, h))\n",
    "    return xx, yy\n",
    "\n",
    "def plot_contours(ax, clf, xx, yy, **params):\n",
    "    \"\"\"Plot the margin of an SVM classifier.\n",
    "\n",
    "    Parameters\n",
    "    ----------\n",
    "    ax: matplotlib axes object\n",
    "    clf: a classifier\n",
    "    xx: meshgrid ndarray\n",
    "    yy: meshgrid ndarray\n",
    "    params: dictionary of params to pass to contourf, optional\n",
    "    \"\"\"\n",
    "    D = clf.predict(np.c_[xx.ravel(), yy.ravel()])\n",
    "    #D = clf.decision_function(np.c_[xx.ravel(), yy.ravel()])\n",
    "    Z = D>1\n",
    "    Z = Z.reshape(xx.shape)\n",
    "    out = ax.contourf(xx, yy, Z,colors=('w','w','b','b'),alpha=.6) # **params)\n",
    "    Z = D<-1\n",
    "    Z = Z.reshape(xx.shape)\n",
    "    out = ax.contourf(xx, yy, Z,colors=('w','w','r','r'),alpha=.6) #**params)\n",
    "    \n",
    "    out = ax.contour(xx,yy,D.reshape(xx.shape),linewidths=[.1,1,1.5,1,.1], \n",
    "                     linestyles=['-','--','--','--','-'],levels=[-1,-.5,0,.5,1], colors=['r','k','k','k','b'])\n",
    "    \n",
    "    return out\n",
    "\n",
    "xx, yy = make_meshgrid(np.array([-11,8]), XX[:,1])\n",
    "\n",
    "Fila0 = np.where(np.abs(yy[:,0]-0)<1e-2)[0][0]\n",
    "\n",
    "fig, [ax1,ax2] = plt.subplots(1, 2 ,num=1,figsize=(16,4))\n",
    "\n",
    "plot_contours(ax1, clf, xx, yy,cmap=plt.cm.coolwarm, alpha=0.6)\n",
    "ax1.plot(Xn[:,1],Xn[:,2],'x',label='neg')\n",
    "ax1.plot(Xp[:,1],Xp[:,2],'ro',label='pos')\n",
    "ax1.grid()\n",
    "ax1.set_title('LMS boundaries')\n",
    "\n",
    "ax2.plot(Xn[:,1],clf.predict(Xn[:,1:]),'bx',label='negative outputs')\n",
    "ax2.plot(Xp[:,1],clf.predict(Xp[:,1:]),'ro',label='positive outputs')\n",
    "ax2.plot( xx[Fila0,:].ravel() , clf.predict(np.c_[xx[Fila0,:].ravel(), yy[Fila0,:].ravel()]) ,'r-', label='continuous outputs')\n",
    "\n",
    "\n",
    "ax2.plot([-10,0,0,6],[-1,-1,1,1],'g--',label='target')\n",
    "ax2.grid()\n",
    "ax2.legend()\n",
    "yl = ax2.get_ylim()\n",
    "ax2.set_title('LMS outputs')\n",
    "plt.show()\n",
    "\n",
    "\n",
    "fig, [ax1,ax2] = plt.subplots(1, 2 ,num=1,figsize=(16,4))\n",
    "\n",
    "plot_contours(ax1, clfa, xx, yy,cmap=plt.cm.coolwarm, alpha=0.6)\n",
    "ax1.plot(Xn[:,1],Xn[:,2],'x',label='neg')\n",
    "ax1.plot(Xp[:,1],Xp[:,2],'ro',label='pos')\n",
    "ax1.grid()\n",
    "ax1.set_title('LMS+{} boundaries'.format(activationType))\n",
    "\n",
    "ax2.plot(Xn[:,1],clfa.predict(Xn[:,1:]),'bx',label='negative outputs')\n",
    "ax2.plot(Xp[:,1],clfa.predict(Xp[:,1:]),'ro',label='positive outputs')\n",
    "ax2.plot( xx[Fila0,:].ravel() , clfa.predict(np.c_[xx[Fila0,:].ravel(), yy[Fila0,:].ravel()]) ,'r-', label='continuous outputs')\n",
    "ax2.plot([-10,0,0,6],[-1,-1,1,1],'g--',label='target')\n",
    "ax2.legend()\n",
    "ax2.set_ylim(yl)\n",
    "ax2.grid()\n",
    "ax2.set_title('LMS+{} outputs'.format(activationType))\n",
    "plt.show()\n"
   ]
  },
  {
   "cell_type": "code",
   "execution_count": 125,
   "metadata": {},
   "outputs": [],
   "source": [
    "# Try 'relu' after 'tanh'\n",
    "# Try 'relu' after 'logistic'"
   ]
  },
  {
   "cell_type": "code",
   "execution_count": null,
   "metadata": {},
   "outputs": [],
   "source": []
  },
  {
   "cell_type": "code",
   "execution_count": null,
   "metadata": {},
   "outputs": [],
   "source": []
  },
  {
   "cell_type": "code",
   "execution_count": null,
   "metadata": {},
   "outputs": [],
   "source": []
  }
 ],
 "metadata": {
  "kernelspec": {
   "display_name": "Python 3",
   "language": "python",
   "name": "python3"
  },
  "language_info": {
   "codemirror_mode": {
    "name": "ipython",
    "version": 3
   },
   "file_extension": ".py",
   "mimetype": "text/x-python",
   "name": "python",
   "nbconvert_exporter": "python",
   "pygments_lexer": "ipython3",
   "version": "3.8.3"
  }
 },
 "nbformat": 4,
 "nbformat_minor": 4
}
